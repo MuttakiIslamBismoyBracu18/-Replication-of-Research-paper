{
  "nbformat": 4,
  "nbformat_minor": 0,
  "metadata": {
    "colab": {
      "provenance": [],
      "authorship_tag": "ABX9TyMo5F2mj7iSy03ZZSJWz0QG",
      "include_colab_link": true
    },
    "kernelspec": {
      "name": "python3",
      "display_name": "Python 3"
    },
    "language_info": {
      "name": "python"
    }
  },
  "cells": [
    {
      "cell_type": "markdown",
      "metadata": {
        "id": "view-in-github",
        "colab_type": "text"
      },
      "source": [
        "<a href=\"https://colab.research.google.com/github/MuttakiIslamBismoyBracu18/-Replication-of-Research-paper/blob/main/Eye_Detection.ipynb\" target=\"_parent\"><img src=\"https://colab.research.google.com/assets/colab-badge.svg\" alt=\"Open In Colab\"/></a>"
      ]
    },
    {
      "cell_type": "code",
      "source": [
        "!wget http://dlib.net/files/shape_predictor_68_face_landmarks.dat.bz2\n",
        "!bzip2 -d shape_predictor_68_face_landmarks.dat.bz2"
      ],
      "metadata": {
        "colab": {
          "base_uri": "https://localhost:8080/"
        },
        "id": "2ycszK8LWSX-",
        "outputId": "bb532686-8ebe-46be-e994-f9bba7d0da79"
      },
      "execution_count": 6,
      "outputs": [
        {
          "output_type": "stream",
          "name": "stdout",
          "text": [
            "--2025-02-19 03:56:03--  http://dlib.net/files/shape_predictor_68_face_landmarks.dat.bz2\n",
            "Resolving dlib.net (dlib.net)... 107.180.26.78\n",
            "Connecting to dlib.net (dlib.net)|107.180.26.78|:80... connected.\n",
            "HTTP request sent, awaiting response... 301 Moved Permanently\n",
            "Location: https://dlib.net/files/shape_predictor_68_face_landmarks.dat.bz2 [following]\n",
            "--2025-02-19 03:56:03--  https://dlib.net/files/shape_predictor_68_face_landmarks.dat.bz2\n",
            "Connecting to dlib.net (dlib.net)|107.180.26.78|:443... connected.\n",
            "HTTP request sent, awaiting response... 200 OK\n",
            "Length: 64040097 (61M)\n",
            "Saving to: ‘shape_predictor_68_face_landmarks.dat.bz2’\n",
            "\n",
            "shape_predictor_68_ 100%[===================>]  61.07M  15.0MB/s    in 4.4s    \n",
            "\n",
            "2025-02-19 03:56:08 (14.0 MB/s) - ‘shape_predictor_68_face_landmarks.dat.bz2’ saved [64040097/64040097]\n",
            "\n"
          ]
        }
      ]
    },
    {
      "cell_type": "code",
      "source": [
        "def are_eyes_in_frame(landmarks, frame_width, frame_height):\n",
        "    for n in range(36, 48):\n",
        "        x = landmarks.part(n).x\n",
        "        y = landmarks.part(n).y\n",
        "        if x < 0 or x >= frame_width or y < 0 or y >= frame_height:\n",
        "            return False\n",
        "    return True"
      ],
      "metadata": {
        "id": "tKIp-oCCWpRk"
      },
      "execution_count": 1,
      "outputs": []
    },
    {
      "cell_type": "code",
      "source": [
        "import dlib\n",
        "import cv2\n",
        "\n",
        "detector = dlib.get_frontal_face_detector()\n",
        "predictor = dlib.shape_predictor(\"shape_predictor_68_face_landmarks.dat\")\n",
        "cap = cv2.VideoCapture(\"/content/Sample 1 - PRTS.mp4\")\n",
        "\n",
        "total_frames = 0\n",
        "eyes_in_camera_frames = 0\n",
        "\n",
        "while cap.isOpened():\n",
        "    ret, frame = cap.read()\n",
        "    if not ret:\n",
        "        break\n",
        "\n",
        "    total_frames += 1\n",
        "    gray = cv2.cvtColor(frame, cv2.COLOR_BGR2GRAY)\n",
        "    faces = detector(gray)\n",
        "\n",
        "    for face in faces:\n",
        "        landmarks = predictor(gray, face)\n",
        "        if are_eyes_in_frame(landmarks, frame.shape[1], frame.shape[0]):\n",
        "            eyes_in_camera_frames += 1\n",
        "\n",
        "eyes_in_camera_percent = (eyes_in_camera_frames / total_frames) * 100\n",
        "eyes_not_in_camera_percent = 100 - eyes_in_camera_percent\n",
        "\n",
        "print(f\"Eyes in camera: {eyes_in_camera_percent:.2f}%\")\n",
        "print(f\"Eyes not in camera: {eyes_not_in_camera_percent:.2f}%\")"
      ],
      "metadata": {
        "colab": {
          "base_uri": "https://localhost:8080/"
        },
        "id": "NpZ2YRatWtqY",
        "outputId": "4d2a1108-aa6d-469f-c072-9ef69e696265"
      },
      "execution_count": 3,
      "outputs": [
        {
          "output_type": "stream",
          "name": "stdout",
          "text": [
            "Eyes in camera: 64.21%\n",
            "Eyes not in camera: 35.79%\n"
          ]
        }
      ]
    }
  ]
}